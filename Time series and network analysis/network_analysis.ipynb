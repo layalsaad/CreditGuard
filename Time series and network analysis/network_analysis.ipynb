{
 "cells": [
  {
   "cell_type": "code",
   "execution_count": 1,
   "id": "11f525a9-b75b-4cee-a902-9275c58cc387",
   "metadata": {},
   "outputs": [
    {
     "ename": "ModuleNotFoundError",
     "evalue": "No module named 'model_functions'",
     "output_type": "error",
     "traceback": [
      "\u001b[1;31m---------------------------------------------------------------------------\u001b[0m",
      "\u001b[1;31mModuleNotFoundError\u001b[0m                       Traceback (most recent call last)",
      "Cell \u001b[1;32mIn[1], line 12\u001b[0m\n\u001b[0;32m      9\u001b[0m \u001b[38;5;28;01mimport\u001b[39;00m \u001b[38;5;21;01msys\u001b[39;00m\n\u001b[0;32m     10\u001b[0m \u001b[38;5;66;03m#sys.path.append(\"C:/Users/Administrator/Desktop/CreditGuard/ML model/\")\u001b[39;00m\n\u001b[0;32m     11\u001b[0m \u001b[38;5;66;03m#print(sys.path)\u001b[39;00m\n\u001b[1;32m---> 12\u001b[0m \u001b[38;5;28;01mimport\u001b[39;00m \u001b[38;5;21;01mmodel_functions\u001b[39;00m \u001b[38;5;28;01mas\u001b[39;00m \u001b[38;5;21;01mnb\u001b[39;00m\n\u001b[0;32m     13\u001b[0m \u001b[38;5;28;01mimport\u001b[39;00m \u001b[38;5;21;01mos\u001b[39;00m\n",
      "\u001b[1;31mModuleNotFoundError\u001b[0m: No module named 'model_functions'"
     ]
    }
   ],
   "source": [
    "import ast\n",
    "import nbimporter\n",
    "import numpy as np\n",
    "import pandas as pd\n",
    "import networkx as nx\n",
    "import seaborn as sns\n",
    "import matplotlib.pyplot as plt\n",
    "from sklearn.metrics import mean_squared_error\n",
    "import sys\n",
    "#sys.path.append(\"C:/Users/Administrator/Desktop/CreditGuard/ML model/\")\n",
    "#print(sys.path)\n",
    "import model_functions as nb\n"
   ]
  },
  {
   "cell_type": "code",
   "execution_count": 15,
   "id": "09aa54aa-acfe-4cd9-97b1-c5dad0a67f0b",
   "metadata": {},
   "outputs": [],
   "source": [
    "df = nb.process_data()\n",
    "df['age'] = df.apply(lambda row: row['trans_year']-row['dob'].year-((row['trans_month'], row['trans_day'])<(row['dob'].month, row['dob'].day)), axis=1)\n",
    "df.to_csv(\"processed.csv\", index=False)"
   ]
  },
  {
   "cell_type": "code",
   "execution_count": 10,
   "id": "7315b35f-638b-4c29-8975-1c834ea3fb02",
   "metadata": {},
   "outputs": [],
   "source": [
    "df_fraud = df[df['is_fraud'] == 1]\n",
    "cc_fraud = df_fraud[df_fraud['fraud_type'] == 2]\n",
    "b_fraud = df_fraud[df_fraud['fraud_type'] == 1]"
   ]
  },
  {
   "cell_type": "code",
   "execution_count": 13,
   "id": "912f5f6c-7e87-4ed5-b4bd-85ec7baaab6b",
   "metadata": {},
   "outputs": [],
   "source": [
    "def draw_graph(G):\n",
    "    sns.set(style=\"whitegrid\")\n",
    "    \n",
    "    plt.figure(figsize=(20, 7))\n",
    "    pos = nx.spring_layout(G, k=0.15, iterations=20)  # k controls the distance between nodes\n",
    "    \n",
    "    # Draw nodes with gradient color based on degree\n",
    "    node_colors = sns.color_palette(\"coolwarm\", len(G.nodes))\n",
    "    node_sizes = [(G.degree(n) * 100)+10 for n in G.nodes()]\n",
    "    \n",
    "    nodes = nx.draw_networkx_nodes(G, pos, node_size=node_sizes, node_color=node_colors, alpha=0.9)\n",
    "    \n",
    "    # Draw edges with transparency\n",
    "    edges = nx.draw_networkx_edges(G, pos, alpha=0.4)\n",
    "    \n",
    "    # Add labels\n",
    "    nx.draw_networkx_labels(G, pos, font_size=8, font_color='black')\n",
    "    \n",
    "    # Remove axis\n",
    "    plt.axis('off')\n",
    "    \n",
    "    # Title and display\n",
    "    plt.title('Network Overview', fontsize=20)\n",
    "    plt.show()"
   ]
  },
  {
   "cell_type": "code",
   "execution_count": 16,
   "id": "cd434f71-5bd9-4fab-bf0e-07de5e56c848",
   "metadata": {},
   "outputs": [],
   "source": [
    "# Example data preparation for network analysis\n",
    "def build_network_matrix(df):\n",
    "    # Define relationships (edges) between nodes\n",
    "    edges = []\n",
    "    \n",
    "    for index, row in df.iterrows():\n",
    "        # Create edges between customer and merchant\n",
    "        edges.append((row['customer_name'], row['merchant']))\n",
    "        \n",
    "        # Create edges between customer and fraud type\n",
    "        edges.append((row['customer_name'], f\"fraud_type_{row['fraud_type']}\"))\n",
    "        \n",
    "        # Create edges between merchant and category\n",
    "        edges.append((row['merchant'], row['category']))\n",
    "    \n",
    "    return edges\n",
    "\n",
    "# Get the edges for both fraud types\n",
    "credit_fraud_edges = build_network_matrix(cc_fraud)\n",
    "bank_fraud_edges = build_network_matrix(b_fraud)\n",
    "\n",
    "# Create network graphs using NetworkX\n",
    "G_credit_fraud = nx.Graph()\n",
    "G_credit_fraud.add_edges_from(credit_fraud_edges)\n",
    "\n",
    "G_bank_fraud = nx.Graph()\n",
    "G_bank_fraud.add_edges_from(bank_fraud_edges)\n",
    "\n",
    "# Visualize or analyze the networks (e.g., ego networks around specific customers or merchants)\n"
   ]
  },
  {
   "cell_type": "code",
   "execution_count": null,
   "id": "e53a46a4-49ae-47c9-8bf4-726d87997e9c",
   "metadata": {},
   "outputs": [],
   "source": [
    "# Example: Ego network around a specific customer\n",
    "ego_customer = nx.ego_graph(G_credit_fraud, \"Juan Sherman\", radius=1)\n"
   ]
  }
 ],
 "metadata": {
  "kernelspec": {
   "display_name": "Python 3 (ipykernel)",
   "language": "python",
   "name": "python3"
  },
  "language_info": {
   "codemirror_mode": {
    "name": "ipython",
    "version": 3
   },
   "file_extension": ".py",
   "mimetype": "text/x-python",
   "name": "python",
   "nbconvert_exporter": "python",
   "pygments_lexer": "ipython3",
   "version": "3.10.14"
  }
 },
 "nbformat": 4,
 "nbformat_minor": 5
}
